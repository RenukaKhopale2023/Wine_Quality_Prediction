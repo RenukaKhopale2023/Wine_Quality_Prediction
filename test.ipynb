{
 "cells": [
  {
   "cell_type": "code",
   "execution_count": 18,
   "id": "ebecbe36",
   "metadata": {},
   "outputs": [],
   "source": [
    "import numpy as np\n",
    "import pandas as pd\n",
    "import pickle\n",
    "import json"
   ]
  },
  {
   "cell_type": "code",
   "execution_count": 19,
   "id": "f6102218",
   "metadata": {},
   "outputs": [],
   "source": [
    "with open('artifacts/labelencoder_y.pkl','rb') as f:\n",
    "    model = pickle.load(f)"
   ]
  },
  {
   "cell_type": "code",
   "execution_count": 20,
   "id": "31c80069",
   "metadata": {},
   "outputs": [],
   "source": [
    "with open('artifacts/std_scaler.pkl','rb') as f:\n",
    "    model = pickle.load(f)"
   ]
  },
  {
   "cell_type": "code",
   "execution_count": 21,
   "id": "66cb638b",
   "metadata": {},
   "outputs": [],
   "source": [
    "with open('artifacts/regression_model.pkl','rb') as f:\n",
    "    model = pickle.load(f)"
   ]
  },
  {
   "cell_type": "code",
   "execution_count": 22,
   "id": "513d092b",
   "metadata": {},
   "outputs": [],
   "source": [
    "with open('artifacts/knn_model.pkl','rb') as f:\n",
    "    model = pickle.load(f)"
   ]
  },
  {
   "cell_type": "code",
   "execution_count": 23,
   "id": "4bbebf47",
   "metadata": {},
   "outputs": [
    {
     "data": {
      "text/plain": [
       "KNeighborsClassifier()"
      ]
     },
     "execution_count": 23,
     "metadata": {},
     "output_type": "execute_result"
    }
   ],
   "source": [
    "model"
   ]
  },
  {
   "cell_type": "code",
   "execution_count": 24,
   "id": "51e0a6c6",
   "metadata": {},
   "outputs": [],
   "source": [
    "array = np.zeros((1,model.n_features_in_))"
   ]
  },
  {
   "cell_type": "code",
   "execution_count": 28,
   "id": "826a2f7c",
   "metadata": {},
   "outputs": [
    {
     "data": {
      "text/plain": [
       "{'Column Names': ['fixed_acidity',\n",
       "  'volatile_acidity',\n",
       "  'citric_acid',\n",
       "  'residual_sugar',\n",
       "  'chlorides',\n",
       "  'free_sulfur_dioxide',\n",
       "  'total_sulfur_dioxide',\n",
       "  'density',\n",
       "  'pH',\n",
       "  'sulphates',\n",
       "  'alcohol']}"
      ]
     },
     "execution_count": 28,
     "metadata": {},
     "output_type": "execute_result"
    }
   ],
   "source": [
    "with open('artifacts/project_data.json') as f:\n",
    "    project_data = json.load(f)\n",
    "project_data"
   ]
  },
  {
   "cell_type": "code",
   "execution_count": 29,
   "id": "837a4550",
   "metadata": {},
   "outputs": [],
   "source": [
    "fixed_acidity = 1.2\n",
    "volatile_acidity = 0.3\n",
    "citric_acid = 0.00\n",
    "residual_sugar = 21.3\n",
    "chlorides = 2.34\n",
    "free_sulfur_dioxide = 6.88\n",
    "total_sulfur_dioxide = 4.33\n",
    "density =0.98\n",
    "pH =6.88\n",
    "sulphates = 65.5\n",
    "alcohol =9.00"
   ]
  },
  {
   "cell_type": "code",
   "execution_count": 30,
   "id": "00a73bee",
   "metadata": {},
   "outputs": [
    {
     "data": {
      "text/plain": [
       "array(['fixed_acidity', 'volatile_acidity', 'citric_acid',\n",
       "       'residual_sugar', 'chlorides', 'free_sulfur_dioxide',\n",
       "       'total_sulfur_dioxide', 'density', 'pH', 'sulphates', 'alcohol'],\n",
       "      dtype=object)"
      ]
     },
     "execution_count": 30,
     "metadata": {},
     "output_type": "execute_result"
    }
   ],
   "source": [
    "model.feature_names_in_"
   ]
  },
  {
   "cell_type": "code",
   "execution_count": 31,
   "id": "e7e18440",
   "metadata": {},
   "outputs": [],
   "source": [
    "array[0][0] =fixed_acidity\n",
    "array[0][1] = volatile_acidity\n",
    "array[0][2] =citric_acid\n",
    "array[0][3] = residual_sugar\n",
    "array[0][4] = chlorides\n",
    "array[0][5] = free_sulfur_dioxide\n",
    "array[0][6] =total_sulfur_dioxide\n",
    "array[0][7] =density\n",
    "array[0][8] =pH\n",
    "array[0][9] =sulphates\n",
    "array[0][10] =alcohol\n",
    "\n"
   ]
  },
  {
   "cell_type": "code",
   "execution_count": 32,
   "id": "fe3d0815",
   "metadata": {},
   "outputs": [],
   "source": [
    "test_dataset = pd.DataFrame(array,columns=model.feature_names_in_)"
   ]
  },
  {
   "cell_type": "code",
   "execution_count": 33,
   "id": "1fb14fce",
   "metadata": {},
   "outputs": [
    {
     "data": {
      "text/html": [
       "<div>\n",
       "<style scoped>\n",
       "    .dataframe tbody tr th:only-of-type {\n",
       "        vertical-align: middle;\n",
       "    }\n",
       "\n",
       "    .dataframe tbody tr th {\n",
       "        vertical-align: top;\n",
       "    }\n",
       "\n",
       "    .dataframe thead th {\n",
       "        text-align: right;\n",
       "    }\n",
       "</style>\n",
       "<table border=\"1\" class=\"dataframe\">\n",
       "  <thead>\n",
       "    <tr style=\"text-align: right;\">\n",
       "      <th></th>\n",
       "      <th>fixed_acidity</th>\n",
       "      <th>volatile_acidity</th>\n",
       "      <th>citric_acid</th>\n",
       "      <th>residual_sugar</th>\n",
       "      <th>chlorides</th>\n",
       "      <th>free_sulfur_dioxide</th>\n",
       "      <th>total_sulfur_dioxide</th>\n",
       "      <th>density</th>\n",
       "      <th>pH</th>\n",
       "      <th>sulphates</th>\n",
       "      <th>alcohol</th>\n",
       "    </tr>\n",
       "  </thead>\n",
       "  <tbody>\n",
       "    <tr>\n",
       "      <th>0</th>\n",
       "      <td>1.2</td>\n",
       "      <td>0.3</td>\n",
       "      <td>0.0</td>\n",
       "      <td>21.3</td>\n",
       "      <td>2.34</td>\n",
       "      <td>6.88</td>\n",
       "      <td>4.33</td>\n",
       "      <td>0.98</td>\n",
       "      <td>6.88</td>\n",
       "      <td>65.5</td>\n",
       "      <td>9.0</td>\n",
       "    </tr>\n",
       "  </tbody>\n",
       "</table>\n",
       "</div>"
      ],
      "text/plain": [
       "   fixed_acidity  volatile_acidity  citric_acid  residual_sugar  chlorides  \\\n",
       "0            1.2               0.3          0.0            21.3       2.34   \n",
       "\n",
       "   free_sulfur_dioxide  total_sulfur_dioxide  density    pH  sulphates  \\\n",
       "0                 6.88                  4.33     0.98  6.88       65.5   \n",
       "\n",
       "   alcohol  \n",
       "0      9.0  "
      ]
     },
     "execution_count": 33,
     "metadata": {},
     "output_type": "execute_result"
    }
   ],
   "source": [
    "test_dataset"
   ]
  },
  {
   "cell_type": "code",
   "execution_count": 35,
   "id": "734c3358",
   "metadata": {},
   "outputs": [
    {
     "name": "stderr",
     "output_type": "stream",
     "text": [
      "C:\\Users\\khopale\\anaconda3\\lib\\site-packages\\sklearn\\neighbors\\_classification.py:228: FutureWarning: Unlike other reduction functions (e.g. `skew`, `kurtosis`), the default behavior of `mode` typically preserves the axis it acts along. In SciPy 1.11.0, this behavior will change: the default value of `keepdims` will become False, the `axis` over which the statistic is taken will be eliminated, and the value None will no longer be accepted. Set `keepdims` to True or False to avoid this warning.\n",
      "  mode, _ = stats.mode(_y[neigh_ind, k], axis=1)\n"
     ]
    },
    {
     "data": {
      "text/plain": [
       "0"
      ]
     },
     "execution_count": 35,
     "metadata": {},
     "output_type": "execute_result"
    }
   ],
   "source": [
    "model.predict(test_dataset)[0]"
   ]
  },
  {
   "cell_type": "code",
   "execution_count": null,
   "id": "2f88f098",
   "metadata": {},
   "outputs": [],
   "source": []
  },
  {
   "cell_type": "code",
   "execution_count": null,
   "id": "b3899163",
   "metadata": {},
   "outputs": [],
   "source": []
  }
 ],
 "metadata": {
  "kernelspec": {
   "display_name": "Python 3 (ipykernel)",
   "language": "python",
   "name": "python3"
  },
  "language_info": {
   "codemirror_mode": {
    "name": "ipython",
    "version": 3
   },
   "file_extension": ".py",
   "mimetype": "text/x-python",
   "name": "python",
   "nbconvert_exporter": "python",
   "pygments_lexer": "ipython3",
   "version": "3.9.16"
  }
 },
 "nbformat": 4,
 "nbformat_minor": 5
}
